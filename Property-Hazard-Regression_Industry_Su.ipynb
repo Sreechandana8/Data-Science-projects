{
 "cells": [
  {
   "cell_type": "code",
   "execution_count": 1,
   "id": "208dcece",
   "metadata": {},
   "outputs": [],
   "source": [
    "import pandas as pd\n",
    "import numpy as np\n",
    "import warnings\n",
    "warnings.filterwarnings(\"ignore\")\n",
    "from pandas_profiling import ProfileReport"
   ]
  },
  {
   "cell_type": "code",
   "execution_count": 2,
   "id": "9b1ea3cc",
   "metadata": {},
   "outputs": [
    {
     "name": "stdout",
     "output_type": "stream",
     "text": [
      "^C\n",
      "Note: you may need to restart the kernel to use updated packages.\n"
     ]
    }
   ],
   "source": [
    "pip install pandas_profiling"
   ]
  },
  {
   "cell_type": "code",
   "execution_count": 3,
   "id": "3da54977",
   "metadata": {},
   "outputs": [
    {
     "data": {
      "text/html": [
       "<div>\n",
       "<style scoped>\n",
       "    .dataframe tbody tr th:only-of-type {\n",
       "        vertical-align: middle;\n",
       "    }\n",
       "\n",
       "    .dataframe tbody tr th {\n",
       "        vertical-align: top;\n",
       "    }\n",
       "\n",
       "    .dataframe thead th {\n",
       "        text-align: right;\n",
       "    }\n",
       "</style>\n",
       "<table border=\"1\" class=\"dataframe\">\n",
       "  <thead>\n",
       "    <tr style=\"text-align: right;\">\n",
       "      <th></th>\n",
       "      <th>Id</th>\n",
       "      <th>Hazard</th>\n",
       "      <th>T1_V1</th>\n",
       "      <th>T1_V2</th>\n",
       "      <th>T1_V3</th>\n",
       "      <th>T1_V4</th>\n",
       "      <th>T1_V5</th>\n",
       "      <th>T1_V6</th>\n",
       "      <th>T1_V7</th>\n",
       "      <th>T1_V8</th>\n",
       "      <th>...</th>\n",
       "      <th>T2_V6</th>\n",
       "      <th>T2_V7</th>\n",
       "      <th>T2_V8</th>\n",
       "      <th>T2_V9</th>\n",
       "      <th>T2_V10</th>\n",
       "      <th>T2_V11</th>\n",
       "      <th>T2_V12</th>\n",
       "      <th>T2_V13</th>\n",
       "      <th>T2_V14</th>\n",
       "      <th>T2_V15</th>\n",
       "    </tr>\n",
       "  </thead>\n",
       "  <tbody>\n",
       "    <tr>\n",
       "      <th>0</th>\n",
       "      <td>83642</td>\n",
       "      <td>2</td>\n",
       "      <td>10</td>\n",
       "      <td>23</td>\n",
       "      <td>4</td>\n",
       "      <td>N</td>\n",
       "      <td>K</td>\n",
       "      <td>Y</td>\n",
       "      <td>B</td>\n",
       "      <td>D</td>\n",
       "      <td>...</td>\n",
       "      <td>2</td>\n",
       "      <td>37</td>\n",
       "      <td>1</td>\n",
       "      <td>11</td>\n",
       "      <td>2</td>\n",
       "      <td>Y</td>\n",
       "      <td>N</td>\n",
       "      <td>E</td>\n",
       "      <td>2</td>\n",
       "      <td>1</td>\n",
       "    </tr>\n",
       "    <tr>\n",
       "      <th>1</th>\n",
       "      <td>92530</td>\n",
       "      <td>6</td>\n",
       "      <td>3</td>\n",
       "      <td>18</td>\n",
       "      <td>2</td>\n",
       "      <td>B</td>\n",
       "      <td>H</td>\n",
       "      <td>N</td>\n",
       "      <td>B</td>\n",
       "      <td>B</td>\n",
       "      <td>...</td>\n",
       "      <td>2</td>\n",
       "      <td>34</td>\n",
       "      <td>1</td>\n",
       "      <td>12</td>\n",
       "      <td>7</td>\n",
       "      <td>Y</td>\n",
       "      <td>N</td>\n",
       "      <td>C</td>\n",
       "      <td>3</td>\n",
       "      <td>3</td>\n",
       "    </tr>\n",
       "    <tr>\n",
       "      <th>2</th>\n",
       "      <td>86131</td>\n",
       "      <td>4</td>\n",
       "      <td>5</td>\n",
       "      <td>20</td>\n",
       "      <td>4</td>\n",
       "      <td>B</td>\n",
       "      <td>K</td>\n",
       "      <td>N</td>\n",
       "      <td>B</td>\n",
       "      <td>B</td>\n",
       "      <td>...</td>\n",
       "      <td>1</td>\n",
       "      <td>40</td>\n",
       "      <td>1</td>\n",
       "      <td>17</td>\n",
       "      <td>4</td>\n",
       "      <td>Y</td>\n",
       "      <td>N</td>\n",
       "      <td>D</td>\n",
       "      <td>1</td>\n",
       "      <td>1</td>\n",
       "    </tr>\n",
       "    <tr>\n",
       "      <th>3</th>\n",
       "      <td>88666</td>\n",
       "      <td>1</td>\n",
       "      <td>4</td>\n",
       "      <td>7</td>\n",
       "      <td>5</td>\n",
       "      <td>N</td>\n",
       "      <td>H</td>\n",
       "      <td>N</td>\n",
       "      <td>B</td>\n",
       "      <td>B</td>\n",
       "      <td>...</td>\n",
       "      <td>2</td>\n",
       "      <td>37</td>\n",
       "      <td>1</td>\n",
       "      <td>11</td>\n",
       "      <td>6</td>\n",
       "      <td>Y</td>\n",
       "      <td>N</td>\n",
       "      <td>D</td>\n",
       "      <td>2</td>\n",
       "      <td>1</td>\n",
       "    </tr>\n",
       "    <tr>\n",
       "      <th>4</th>\n",
       "      <td>11122</td>\n",
       "      <td>21</td>\n",
       "      <td>10</td>\n",
       "      <td>21</td>\n",
       "      <td>6</td>\n",
       "      <td>N</td>\n",
       "      <td>C</td>\n",
       "      <td>Y</td>\n",
       "      <td>B</td>\n",
       "      <td>C</td>\n",
       "      <td>...</td>\n",
       "      <td>2</td>\n",
       "      <td>40</td>\n",
       "      <td>1</td>\n",
       "      <td>6</td>\n",
       "      <td>6</td>\n",
       "      <td>N</td>\n",
       "      <td>N</td>\n",
       "      <td>D</td>\n",
       "      <td>5</td>\n",
       "      <td>5</td>\n",
       "    </tr>\n",
       "  </tbody>\n",
       "</table>\n",
       "<p>5 rows × 34 columns</p>\n",
       "</div>"
      ],
      "text/plain": [
       "      Id  Hazard  T1_V1  T1_V2  T1_V3 T1_V4 T1_V5 T1_V6 T1_V7 T1_V8  ...  \\\n",
       "0  83642       2     10     23      4     N     K     Y     B     D  ...   \n",
       "1  92530       6      3     18      2     B     H     N     B     B  ...   \n",
       "2  86131       4      5     20      4     B     K     N     B     B  ...   \n",
       "3  88666       1      4      7      5     N     H     N     B     B  ...   \n",
       "4  11122      21     10     21      6     N     C     Y     B     C  ...   \n",
       "\n",
       "  T2_V6  T2_V7 T2_V8 T2_V9  T2_V10  T2_V11 T2_V12 T2_V13 T2_V14  T2_V15  \n",
       "0     2     37     1    11       2       Y      N      E      2       1  \n",
       "1     2     34     1    12       7       Y      N      C      3       3  \n",
       "2     1     40     1    17       4       Y      N      D      1       1  \n",
       "3     2     37     1    11       6       Y      N      D      2       1  \n",
       "4     2     40     1     6       6       N      N      D      5       5  \n",
       "\n",
       "[5 rows x 34 columns]"
      ]
     },
     "execution_count": 3,
     "metadata": {},
     "output_type": "execute_result"
    }
   ],
   "source": [
    "df = pd.read_csv('C:\\\\Users\\\\CH40068799\\\\OneDrive - Wipro\\\\Documents\\\\Data Science\\\\ML projects files\\\\Project 3\\\\Hazard_train.csv')\n",
    "df.head()"
   ]
  },
  {
   "cell_type": "code",
   "execution_count": 4,
   "id": "0dc0ab77",
   "metadata": {},
   "outputs": [
    {
     "name": "stdout",
     "output_type": "stream",
     "text": [
      "(40799, 34)\n"
     ]
    }
   ],
   "source": [
    "print(df.shape)"
   ]
  },
  {
   "cell_type": "code",
   "execution_count": 5,
   "id": "29b037f9",
   "metadata": {},
   "outputs": [],
   "source": [
    "cols = df.columns\n",
    "predictors = df[cols[2:]]\n",
    "target = df['Hazard']"
   ]
  },
  {
   "cell_type": "code",
   "execution_count": 6,
   "id": "075df9f1",
   "metadata": {},
   "outputs": [
    {
     "data": {
      "text/html": [
       "<div>\n",
       "<style scoped>\n",
       "    .dataframe tbody tr th:only-of-type {\n",
       "        vertical-align: middle;\n",
       "    }\n",
       "\n",
       "    .dataframe tbody tr th {\n",
       "        vertical-align: top;\n",
       "    }\n",
       "\n",
       "    .dataframe thead th {\n",
       "        text-align: right;\n",
       "    }\n",
       "</style>\n",
       "<table border=\"1\" class=\"dataframe\">\n",
       "  <thead>\n",
       "    <tr style=\"text-align: right;\">\n",
       "      <th></th>\n",
       "      <th>Id</th>\n",
       "      <th>Hazard</th>\n",
       "      <th>T1_V1</th>\n",
       "      <th>T1_V2</th>\n",
       "      <th>T1_V3</th>\n",
       "      <th>T1_V10</th>\n",
       "      <th>T1_V13</th>\n",
       "      <th>T1_V14</th>\n",
       "      <th>T2_V1</th>\n",
       "      <th>T2_V2</th>\n",
       "      <th>T2_V4</th>\n",
       "      <th>T2_V6</th>\n",
       "      <th>T2_V7</th>\n",
       "      <th>T2_V8</th>\n",
       "      <th>T2_V9</th>\n",
       "      <th>T2_V10</th>\n",
       "      <th>T2_V14</th>\n",
       "      <th>T2_V15</th>\n",
       "    </tr>\n",
       "  </thead>\n",
       "  <tbody>\n",
       "    <tr>\n",
       "      <th>count</th>\n",
       "      <td>40799.000000</td>\n",
       "      <td>40799.000000</td>\n",
       "      <td>40799.000000</td>\n",
       "      <td>40799.000000</td>\n",
       "      <td>40799.000000</td>\n",
       "      <td>40799.000000</td>\n",
       "      <td>40799.000000</td>\n",
       "      <td>40799.000000</td>\n",
       "      <td>40799.000000</td>\n",
       "      <td>40799.000000</td>\n",
       "      <td>40799.000000</td>\n",
       "      <td>40799.000000</td>\n",
       "      <td>40799.000000</td>\n",
       "      <td>40799.000000</td>\n",
       "      <td>40799.000000</td>\n",
       "      <td>40799.000000</td>\n",
       "      <td>40799.000000</td>\n",
       "      <td>40799.000000</td>\n",
       "    </tr>\n",
       "    <tr>\n",
       "      <th>mean</th>\n",
       "      <td>50850.454276</td>\n",
       "      <td>4.009584</td>\n",
       "      <td>9.723645</td>\n",
       "      <td>12.849359</td>\n",
       "      <td>3.190691</td>\n",
       "      <td>7.025123</td>\n",
       "      <td>14.009902</td>\n",
       "      <td>1.582416</td>\n",
       "      <td>57.568641</td>\n",
       "      <td>12.410451</td>\n",
       "      <td>10.251403</td>\n",
       "      <td>1.947499</td>\n",
       "      <td>33.504620</td>\n",
       "      <td>1.031349</td>\n",
       "      <td>12.496973</td>\n",
       "      <td>4.489963</td>\n",
       "      <td>2.448344</td>\n",
       "      <td>3.482512</td>\n",
       "    </tr>\n",
       "    <tr>\n",
       "      <th>std</th>\n",
       "      <td>29282.641037</td>\n",
       "      <td>4.007785</td>\n",
       "      <td>5.170715</td>\n",
       "      <td>6.257502</td>\n",
       "      <td>1.742044</td>\n",
       "      <td>3.596619</td>\n",
       "      <td>4.649012</td>\n",
       "      <td>0.865121</td>\n",
       "      <td>23.461468</td>\n",
       "      <td>4.785406</td>\n",
       "      <td>4.845443</td>\n",
       "      <td>0.795249</td>\n",
       "      <td>5.830512</td>\n",
       "      <td>0.191676</td>\n",
       "      <td>7.313552</td>\n",
       "      <td>1.899386</td>\n",
       "      <td>1.257293</td>\n",
       "      <td>3.070911</td>\n",
       "    </tr>\n",
       "    <tr>\n",
       "      <th>min</th>\n",
       "      <td>2.000000</td>\n",
       "      <td>1.000000</td>\n",
       "      <td>1.000000</td>\n",
       "      <td>1.000000</td>\n",
       "      <td>1.000000</td>\n",
       "      <td>2.000000</td>\n",
       "      <td>5.000000</td>\n",
       "      <td>0.000000</td>\n",
       "      <td>1.000000</td>\n",
       "      <td>1.000000</td>\n",
       "      <td>1.000000</td>\n",
       "      <td>1.000000</td>\n",
       "      <td>22.000000</td>\n",
       "      <td>1.000000</td>\n",
       "      <td>1.000000</td>\n",
       "      <td>1.000000</td>\n",
       "      <td>1.000000</td>\n",
       "      <td>1.000000</td>\n",
       "    </tr>\n",
       "    <tr>\n",
       "      <th>25%</th>\n",
       "      <td>25596.500000</td>\n",
       "      <td>1.000000</td>\n",
       "      <td>6.000000</td>\n",
       "      <td>7.000000</td>\n",
       "      <td>2.000000</td>\n",
       "      <td>3.000000</td>\n",
       "      <td>10.000000</td>\n",
       "      <td>1.000000</td>\n",
       "      <td>40.000000</td>\n",
       "      <td>9.000000</td>\n",
       "      <td>6.000000</td>\n",
       "      <td>2.000000</td>\n",
       "      <td>31.000000</td>\n",
       "      <td>1.000000</td>\n",
       "      <td>6.000000</td>\n",
       "      <td>3.000000</td>\n",
       "      <td>2.000000</td>\n",
       "      <td>1.000000</td>\n",
       "    </tr>\n",
       "    <tr>\n",
       "      <th>50%</th>\n",
       "      <td>50784.000000</td>\n",
       "      <td>3.000000</td>\n",
       "      <td>9.000000</td>\n",
       "      <td>14.000000</td>\n",
       "      <td>3.000000</td>\n",
       "      <td>8.000000</td>\n",
       "      <td>15.000000</td>\n",
       "      <td>1.000000</td>\n",
       "      <td>55.000000</td>\n",
       "      <td>11.000000</td>\n",
       "      <td>10.000000</td>\n",
       "      <td>2.000000</td>\n",
       "      <td>34.000000</td>\n",
       "      <td>1.000000</td>\n",
       "      <td>14.000000</td>\n",
       "      <td>4.000000</td>\n",
       "      <td>2.000000</td>\n",
       "      <td>2.000000</td>\n",
       "    </tr>\n",
       "    <tr>\n",
       "      <th>75%</th>\n",
       "      <td>76198.500000</td>\n",
       "      <td>5.000000</td>\n",
       "      <td>14.000000</td>\n",
       "      <td>18.000000</td>\n",
       "      <td>4.000000</td>\n",
       "      <td>12.000000</td>\n",
       "      <td>20.000000</td>\n",
       "      <td>2.000000</td>\n",
       "      <td>77.000000</td>\n",
       "      <td>15.000000</td>\n",
       "      <td>14.000000</td>\n",
       "      <td>2.000000</td>\n",
       "      <td>40.000000</td>\n",
       "      <td>1.000000</td>\n",
       "      <td>18.000000</td>\n",
       "      <td>6.000000</td>\n",
       "      <td>3.000000</td>\n",
       "      <td>5.000000</td>\n",
       "    </tr>\n",
       "    <tr>\n",
       "      <th>max</th>\n",
       "      <td>101999.000000</td>\n",
       "      <td>69.000000</td>\n",
       "      <td>19.000000</td>\n",
       "      <td>24.000000</td>\n",
       "      <td>9.000000</td>\n",
       "      <td>12.000000</td>\n",
       "      <td>20.000000</td>\n",
       "      <td>4.000000</td>\n",
       "      <td>100.000000</td>\n",
       "      <td>39.000000</td>\n",
       "      <td>22.000000</td>\n",
       "      <td>7.000000</td>\n",
       "      <td>40.000000</td>\n",
       "      <td>3.000000</td>\n",
       "      <td>25.000000</td>\n",
       "      <td>7.000000</td>\n",
       "      <td>7.000000</td>\n",
       "      <td>12.000000</td>\n",
       "    </tr>\n",
       "  </tbody>\n",
       "</table>\n",
       "</div>"
      ],
      "text/plain": [
       "                  Id        Hazard         T1_V1         T1_V2         T1_V3  \\\n",
       "count   40799.000000  40799.000000  40799.000000  40799.000000  40799.000000   \n",
       "mean    50850.454276      4.009584      9.723645     12.849359      3.190691   \n",
       "std     29282.641037      4.007785      5.170715      6.257502      1.742044   \n",
       "min         2.000000      1.000000      1.000000      1.000000      1.000000   \n",
       "25%     25596.500000      1.000000      6.000000      7.000000      2.000000   \n",
       "50%     50784.000000      3.000000      9.000000     14.000000      3.000000   \n",
       "75%     76198.500000      5.000000     14.000000     18.000000      4.000000   \n",
       "max    101999.000000     69.000000     19.000000     24.000000      9.000000   \n",
       "\n",
       "             T1_V10        T1_V13        T1_V14         T2_V1         T2_V2  \\\n",
       "count  40799.000000  40799.000000  40799.000000  40799.000000  40799.000000   \n",
       "mean       7.025123     14.009902      1.582416     57.568641     12.410451   \n",
       "std        3.596619      4.649012      0.865121     23.461468      4.785406   \n",
       "min        2.000000      5.000000      0.000000      1.000000      1.000000   \n",
       "25%        3.000000     10.000000      1.000000     40.000000      9.000000   \n",
       "50%        8.000000     15.000000      1.000000     55.000000     11.000000   \n",
       "75%       12.000000     20.000000      2.000000     77.000000     15.000000   \n",
       "max       12.000000     20.000000      4.000000    100.000000     39.000000   \n",
       "\n",
       "              T2_V4         T2_V6         T2_V7         T2_V8         T2_V9  \\\n",
       "count  40799.000000  40799.000000  40799.000000  40799.000000  40799.000000   \n",
       "mean      10.251403      1.947499     33.504620      1.031349     12.496973   \n",
       "std        4.845443      0.795249      5.830512      0.191676      7.313552   \n",
       "min        1.000000      1.000000     22.000000      1.000000      1.000000   \n",
       "25%        6.000000      2.000000     31.000000      1.000000      6.000000   \n",
       "50%       10.000000      2.000000     34.000000      1.000000     14.000000   \n",
       "75%       14.000000      2.000000     40.000000      1.000000     18.000000   \n",
       "max       22.000000      7.000000     40.000000      3.000000     25.000000   \n",
       "\n",
       "             T2_V10        T2_V14        T2_V15  \n",
       "count  40799.000000  40799.000000  40799.000000  \n",
       "mean       4.489963      2.448344      3.482512  \n",
       "std        1.899386      1.257293      3.070911  \n",
       "min        1.000000      1.000000      1.000000  \n",
       "25%        3.000000      2.000000      1.000000  \n",
       "50%        4.000000      2.000000      2.000000  \n",
       "75%        6.000000      3.000000      5.000000  \n",
       "max        7.000000      7.000000     12.000000  "
      ]
     },
     "execution_count": 6,
     "metadata": {},
     "output_type": "execute_result"
    }
   ],
   "source": [
    "df.describe()"
   ]
  },
  {
   "cell_type": "code",
   "execution_count": 7,
   "id": "63c0c792",
   "metadata": {},
   "outputs": [
    {
     "data": {
      "text/plain": [
       "Index(['T1_V4', 'T1_V5', 'T1_V6', 'T1_V7', 'T1_V8', 'T1_V9', 'T1_V11',\n",
       "       'T1_V12', 'T1_V15', 'T1_V16', 'T1_V17', 'T2_V3', 'T2_V5', 'T2_V11',\n",
       "       'T2_V12', 'T2_V13'],\n",
       "      dtype='object')"
      ]
     },
     "execution_count": 7,
     "metadata": {},
     "output_type": "execute_result"
    }
   ],
   "source": [
    "objcol = df.select_dtypes(['object']).columns\n",
    "objcol"
   ]
  },
  {
   "cell_type": "code",
   "execution_count": 8,
   "id": "1ec39000",
   "metadata": {},
   "outputs": [
    {
     "name": "stdout",
     "output_type": "stream",
     "text": [
      "cutoff : 2039.95\n"
     ]
    }
   ],
   "source": [
    "cutoff = df.shape[0]*0.05\n",
    "print(\"cutoff :\", cutoff)"
   ]
  },
  {
   "cell_type": "code",
   "execution_count": 9,
   "id": "2f03d18f",
   "metadata": {},
   "outputs": [
    {
     "name": "stdout",
     "output_type": "stream",
     "text": [
      "T1_V4\n",
      "T1_V5\n",
      "T1_V6\n",
      "T1_V7\n",
      "T1_V8\n",
      "T1_V9\n",
      "T1_V11\n",
      "T1_V12\n",
      "T1_V15\n",
      "T1_V16\n",
      "T1_V17\n",
      "T2_V3\n",
      "T2_V5\n",
      "T2_V11\n",
      "T2_V12\n",
      "T2_V13\n"
     ]
    }
   ],
   "source": [
    "for col in objcol:\n",
    "    freqs = df[col].value_counts()\n",
    "    selected_cats = freqs.index[freqs > cutoff]\n",
    "    \n",
    "    print(col)\n",
    "    for cat in selected_cats:\n",
    "        name = col+'_'+cat\n",
    "        \n",
    "        df[name] = (df[col]==cat).astype(int)\n",
    "    del df[col]"
   ]
  },
  {
   "cell_type": "code",
   "execution_count": 10,
   "id": "78968242",
   "metadata": {},
   "outputs": [
    {
     "data": {
      "text/html": [
       "<div>\n",
       "<style scoped>\n",
       "    .dataframe tbody tr th:only-of-type {\n",
       "        vertical-align: middle;\n",
       "    }\n",
       "\n",
       "    .dataframe tbody tr th {\n",
       "        vertical-align: top;\n",
       "    }\n",
       "\n",
       "    .dataframe thead th {\n",
       "        text-align: right;\n",
       "    }\n",
       "</style>\n",
       "<table border=\"1\" class=\"dataframe\">\n",
       "  <thead>\n",
       "    <tr style=\"text-align: right;\">\n",
       "      <th></th>\n",
       "      <th>Id</th>\n",
       "      <th>Hazard</th>\n",
       "      <th>T1_V1</th>\n",
       "      <th>T1_V2</th>\n",
       "      <th>T1_V3</th>\n",
       "      <th>T1_V10</th>\n",
       "      <th>T1_V13</th>\n",
       "      <th>T1_V14</th>\n",
       "      <th>T2_V1</th>\n",
       "      <th>T2_V2</th>\n",
       "      <th>...</th>\n",
       "      <th>T2_V5_B</th>\n",
       "      <th>T2_V5_C</th>\n",
       "      <th>T2_V11_Y</th>\n",
       "      <th>T2_V11_N</th>\n",
       "      <th>T2_V12_N</th>\n",
       "      <th>T2_V12_Y</th>\n",
       "      <th>T2_V13_E</th>\n",
       "      <th>T2_V13_A</th>\n",
       "      <th>T2_V13_C</th>\n",
       "      <th>T2_V13_D</th>\n",
       "    </tr>\n",
       "  </thead>\n",
       "  <tbody>\n",
       "    <tr>\n",
       "      <th>0</th>\n",
       "      <td>83642</td>\n",
       "      <td>2</td>\n",
       "      <td>10</td>\n",
       "      <td>23</td>\n",
       "      <td>4</td>\n",
       "      <td>2</td>\n",
       "      <td>10</td>\n",
       "      <td>0</td>\n",
       "      <td>52</td>\n",
       "      <td>14</td>\n",
       "      <td>...</td>\n",
       "      <td>0</td>\n",
       "      <td>1</td>\n",
       "      <td>1</td>\n",
       "      <td>0</td>\n",
       "      <td>1</td>\n",
       "      <td>0</td>\n",
       "      <td>1</td>\n",
       "      <td>0</td>\n",
       "      <td>0</td>\n",
       "      <td>0</td>\n",
       "    </tr>\n",
       "    <tr>\n",
       "      <th>1</th>\n",
       "      <td>92530</td>\n",
       "      <td>6</td>\n",
       "      <td>3</td>\n",
       "      <td>18</td>\n",
       "      <td>2</td>\n",
       "      <td>8</td>\n",
       "      <td>10</td>\n",
       "      <td>3</td>\n",
       "      <td>39</td>\n",
       "      <td>14</td>\n",
       "      <td>...</td>\n",
       "      <td>0</td>\n",
       "      <td>0</td>\n",
       "      <td>1</td>\n",
       "      <td>0</td>\n",
       "      <td>1</td>\n",
       "      <td>0</td>\n",
       "      <td>0</td>\n",
       "      <td>0</td>\n",
       "      <td>1</td>\n",
       "      <td>0</td>\n",
       "    </tr>\n",
       "    <tr>\n",
       "      <th>2</th>\n",
       "      <td>86131</td>\n",
       "      <td>4</td>\n",
       "      <td>5</td>\n",
       "      <td>20</td>\n",
       "      <td>4</td>\n",
       "      <td>7</td>\n",
       "      <td>15</td>\n",
       "      <td>1</td>\n",
       "      <td>66</td>\n",
       "      <td>10</td>\n",
       "      <td>...</td>\n",
       "      <td>0</td>\n",
       "      <td>1</td>\n",
       "      <td>1</td>\n",
       "      <td>0</td>\n",
       "      <td>1</td>\n",
       "      <td>0</td>\n",
       "      <td>0</td>\n",
       "      <td>0</td>\n",
       "      <td>0</td>\n",
       "      <td>1</td>\n",
       "    </tr>\n",
       "    <tr>\n",
       "      <th>3</th>\n",
       "      <td>88666</td>\n",
       "      <td>1</td>\n",
       "      <td>4</td>\n",
       "      <td>7</td>\n",
       "      <td>5</td>\n",
       "      <td>8</td>\n",
       "      <td>15</td>\n",
       "      <td>3</td>\n",
       "      <td>48</td>\n",
       "      <td>11</td>\n",
       "      <td>...</td>\n",
       "      <td>1</td>\n",
       "      <td>0</td>\n",
       "      <td>1</td>\n",
       "      <td>0</td>\n",
       "      <td>1</td>\n",
       "      <td>0</td>\n",
       "      <td>0</td>\n",
       "      <td>0</td>\n",
       "      <td>0</td>\n",
       "      <td>1</td>\n",
       "    </tr>\n",
       "    <tr>\n",
       "      <th>4</th>\n",
       "      <td>11122</td>\n",
       "      <td>21</td>\n",
       "      <td>10</td>\n",
       "      <td>21</td>\n",
       "      <td>6</td>\n",
       "      <td>12</td>\n",
       "      <td>10</td>\n",
       "      <td>1</td>\n",
       "      <td>42</td>\n",
       "      <td>11</td>\n",
       "      <td>...</td>\n",
       "      <td>0</td>\n",
       "      <td>0</td>\n",
       "      <td>0</td>\n",
       "      <td>1</td>\n",
       "      <td>1</td>\n",
       "      <td>0</td>\n",
       "      <td>0</td>\n",
       "      <td>0</td>\n",
       "      <td>0</td>\n",
       "      <td>1</td>\n",
       "    </tr>\n",
       "  </tbody>\n",
       "</table>\n",
       "<p>5 rows × 63 columns</p>\n",
       "</div>"
      ],
      "text/plain": [
       "      Id  Hazard  T1_V1  T1_V2  T1_V3  T1_V10  T1_V13  T1_V14  T2_V1  T2_V2  \\\n",
       "0  83642       2     10     23      4       2      10       0     52     14   \n",
       "1  92530       6      3     18      2       8      10       3     39     14   \n",
       "2  86131       4      5     20      4       7      15       1     66     10   \n",
       "3  88666       1      4      7      5       8      15       3     48     11   \n",
       "4  11122      21     10     21      6      12      10       1     42     11   \n",
       "\n",
       "   ...  T2_V5_B  T2_V5_C  T2_V11_Y  T2_V11_N  T2_V12_N  T2_V12_Y  T2_V13_E  \\\n",
       "0  ...        0        1         1         0         1         0         1   \n",
       "1  ...        0        0         1         0         1         0         0   \n",
       "2  ...        0        1         1         0         1         0         0   \n",
       "3  ...        1        0         1         0         1         0         0   \n",
       "4  ...        0        0         0         1         1         0         0   \n",
       "\n",
       "   T2_V13_A  T2_V13_C  T2_V13_D  \n",
       "0         0         0         0  \n",
       "1         0         1         0  \n",
       "2         0         0         1  \n",
       "3         0         0         1  \n",
       "4         0         0         1  \n",
       "\n",
       "[5 rows x 63 columns]"
      ]
     },
     "execution_count": 10,
     "metadata": {},
     "output_type": "execute_result"
    }
   ],
   "source": [
    "df.head()"
   ]
  },
  {
   "cell_type": "code",
   "execution_count": 11,
   "id": "2282704e",
   "metadata": {},
   "outputs": [],
   "source": [
    "def report(results, n_top=3):\n",
    "    for i in range(1, n_top + 1):\n",
    "        candidates = np.flatnonzero(results['rank_test_score'] == i)\n",
    "        for candidate in candidates:\n",
    "            print(\"Model with rank: {0}\".format(i))\n",
    "            print(\"Mean validation score: {0:.3f} (std: {1:.5f})\".format(\n",
    "                          results['mean_test_score'][candidate],\n",
    "                          results['std_test_score'][candidate]))\n",
    "            print(\"Parameters: {0}\".format(results['params'][candidate]))\n",
    "            print(\" \")"
   ]
  },
  {
   "cell_type": "code",
   "execution_count": 12,
   "id": "60171474",
   "metadata": {},
   "outputs": [],
   "source": [
    "X = df[df.columns[2:]]\n",
    "Y = pd.DataFrame()\n",
    "Y['Hazard'] = df['Hazard']"
   ]
  },
  {
   "cell_type": "code",
   "execution_count": 13,
   "id": "64c425d6",
   "metadata": {},
   "outputs": [
    {
     "data": {
      "text/plain": [
       "Index(['Hazard'], dtype='object')"
      ]
     },
     "execution_count": 13,
     "metadata": {},
     "output_type": "execute_result"
    }
   ],
   "source": [
    "Y.columns"
   ]
  },
  {
   "cell_type": "code",
   "execution_count": 14,
   "id": "876c3791",
   "metadata": {},
   "outputs": [],
   "source": [
    "from sklearn.model_selection import RandomizedSearchCV, GridSearchCV\n",
    "from sklearn.tree import DecisionTreeRegressor\n",
    "from sklearn.linear_model import LinearRegression, Ridge, Lasso\n",
    "from sklearn.model_selection import train_test_split"
   ]
  },
  {
   "cell_type": "code",
   "execution_count": 15,
   "id": "1c7536ec",
   "metadata": {},
   "outputs": [
    {
     "name": "stdout",
     "output_type": "stream",
     "text": [
      "Fitting 10 folds for each of 100 candidates, totalling 1000 fits\n",
      "Requirement already satisfied: pandas_profiling in c:\\users\\ch40068799\\anaconda3\\lib\\site-packages (3.1.0)\n",
      "Requirement already satisfied: scipy>=1.4.1 in c:\\users\\ch40068799\\anaconda3\\lib\\site-packages (from pandas_profiling) (1.6.2)\n",
      "Requirement already satisfied: matplotlib>=3.2.0 in c:\\users\\ch40068799\\anaconda3\\lib\\site-packages (from pandas_profiling) (3.3.4)\n",
      "Requirement already satisfied: pydantic>=1.8.1 in c:\\users\\ch40068799\\anaconda3\\lib\\site-packages (from pandas_profiling) (1.8.2)\n",
      "Requirement already satisfied: markupsafe~=2.0.1 in c:\\users\\ch40068799\\anaconda3\\lib\\site-packages (from pandas_profiling) (2.0.1)\n",
      "Requirement already satisfied: numpy>=1.16.0 in c:\\users\\ch40068799\\anaconda3\\lib\\site-packages (from pandas_profiling) (1.20.1)\n",
      "Requirement already satisfied: joblib~=1.0.1 in c:\\users\\ch40068799\\anaconda3\\lib\\site-packages (from pandas_profiling) (1.0.1)\n",
      "Requirement already satisfied: phik>=0.11.1 in c:\\users\\ch40068799\\anaconda3\\lib\\site-packages (from pandas_profiling) (0.12.0)\n",
      "Requirement already satisfied: tangled-up-in-unicode==0.1.0 in c:\\users\\ch40068799\\anaconda3\\lib\\site-packages (from pandas_profiling) (0.1.0)\n",
      "Requirement already satisfied: htmlmin>=0.1.12 in c:\\users\\ch40068799\\anaconda3\\lib\\site-packages (from pandas_profiling) (0.1.12)\n",
      "Requirement already satisfied: missingno>=0.4.2 in c:\\users\\ch40068799\\anaconda3\\lib\\site-packages (from pandas_profiling) (0.5.0)\n",
      "Requirement already satisfied: multimethod>=1.4 in c:\\users\\ch40068799\\anaconda3\\lib\\site-packages (from pandas_profiling) (1.6)\n",
      "Requirement already satisfied: PyYAML>=5.0.0 in c:\\users\\ch40068799\\anaconda3\\lib\\site-packages (from pandas_profiling) (5.4.1)\n",
      "Requirement already satisfied: tqdm>=4.48.2 in c:\\users\\ch40068799\\anaconda3\\lib\\site-packages (from pandas_profiling) (4.59.0)\n",
      "Requirement already satisfied: visions[type_image_path]==0.7.4 in c:\\users\\ch40068799\\anaconda3\\lib\\site-packages (from pandas_profiling) (0.7.4)\n",
      "Requirement already satisfied: pandas!=1.0.0,!=1.0.1,!=1.0.2,!=1.1.0,>=0.25.3 in c:\\users\\ch40068799\\anaconda3\\lib\\site-packages (from pandas_profiling) (1.2.4)\n",
      "Requirement already satisfied: requests>=2.24.0 in c:\\users\\ch40068799\\anaconda3\\lib\\site-packages (from pandas_profiling) (2.25.1)\n",
      "Requirement already satisfied: jinja2>=2.11.1 in c:\\users\\ch40068799\\anaconda3\\lib\\site-packages (from pandas_profiling) (2.11.3)\n",
      "Requirement already satisfied: seaborn>=0.10.1 in c:\\users\\ch40068799\\anaconda3\\lib\\site-packages (from pandas_profiling) (0.11.1)\n",
      "Requirement already satisfied: attrs>=19.3.0 in c:\\users\\ch40068799\\anaconda3\\lib\\site-packages (from visions[type_image_path]==0.7.4->pandas_profiling) (20.3.0)\n",
      "Requirement already satisfied: networkx>=2.4 in c:\\users\\ch40068799\\anaconda3\\lib\\site-packages (from visions[type_image_path]==0.7.4->pandas_profiling) (2.5)\n",
      "Requirement already satisfied: Pillow in c:\\users\\ch40068799\\anaconda3\\lib\\site-packages (from visions[type_image_path]==0.7.4->pandas_profiling) (8.2.0)\n",
      "Requirement already satisfied: imagehash in c:\\users\\ch40068799\\anaconda3\\lib\\site-packages (from visions[type_image_path]==0.7.4->pandas_profiling) (4.2.1)\n",
      "Requirement already satisfied: kiwisolver>=1.0.1 in c:\\users\\ch40068799\\anaconda3\\lib\\site-packages (from matplotlib>=3.2.0->pandas_profiling) (1.3.1)\n",
      "Requirement already satisfied: python-dateutil>=2.1 in c:\\users\\ch40068799\\anaconda3\\lib\\site-packages (from matplotlib>=3.2.0->pandas_profiling) (2.8.1)\n",
      "Requirement already satisfied: cycler>=0.10 in c:\\users\\ch40068799\\anaconda3\\lib\\site-packages (from matplotlib>=3.2.0->pandas_profiling) (0.10.0)\n",
      "Requirement already satisfied: pyparsing!=2.0.4,!=2.1.2,!=2.1.6,>=2.0.3 in c:\\users\\ch40068799\\anaconda3\\lib\\site-packages (from matplotlib>=3.2.0->pandas_profiling) (2.4.7)\n",
      "Requirement already satisfied: six in c:\\users\\ch40068799\\anaconda3\\lib\\site-packages (from cycler>=0.10->matplotlib>=3.2.0->pandas_profiling) (1.15.0)\n",
      "Requirement already satisfied: decorator>=4.3.0 in c:\\users\\ch40068799\\anaconda3\\lib\\site-packages (from networkx>=2.4->visions[type_image_path]==0.7.4->pandas_profiling) (5.0.6)\n",
      "Requirement already satisfied: pytz>=2017.3 in c:\\users\\ch40068799\\anaconda3\\lib\\site-packages (from pandas!=1.0.0,!=1.0.1,!=1.0.2,!=1.1.0,>=0.25.3->pandas_profiling) (2021.1)\n",
      "Requirement already satisfied: typing-extensions>=3.7.4.3 in c:\\users\\ch40068799\\anaconda3\\lib\\site-packages (from pydantic>=1.8.1->pandas_profiling) (3.7.4.3)\n",
      "Requirement already satisfied: certifi>=2017.4.17 in c:\\users\\ch40068799\\anaconda3\\lib\\site-packages (from requests>=2.24.0->pandas_profiling) (2020.12.5)\n",
      "Requirement already satisfied: chardet<5,>=3.0.2 in c:\\users\\ch40068799\\anaconda3\\lib\\site-packages (from requests>=2.24.0->pandas_profiling) (4.0.0)\n",
      "Requirement already satisfied: idna<3,>=2.5 in c:\\users\\ch40068799\\anaconda3\\lib\\site-packages (from requests>=2.24.0->pandas_profiling) (2.10)\n",
      "Requirement already satisfied: urllib3<1.27,>=1.21.1 in c:\\users\\ch40068799\\anaconda3\\lib\\site-packages (from requests>=2.24.0->pandas_profiling) (1.26.4)\n",
      "Requirement already satisfied: PyWavelets in c:\\users\\ch40068799\\anaconda3\\lib\\site-packages (from imagehash->visions[type_image_path]==0.7.4->pandas_profiling) (1.1.1)\n"
     ]
    },
    {
     "data": {
      "text/plain": [
       "GridSearchCV(cv=10, estimator=Ridge(), n_jobs=-1,\n",
       "             param_grid={'alpha': array([  1.,   2.,   3.,   4.,   5.,   6.,   7.,   8.,   9.,  10.,  11.,\n",
       "        12.,  13.,  14.,  15.,  16.,  17.,  18.,  19.,  20.,  21.,  22.,\n",
       "        23.,  24.,  25.,  26.,  27.,  28.,  29.,  30.,  31.,  32.,  33.,\n",
       "        34.,  35.,  36.,  37.,  38.,  39.,  40.,  41.,  42.,  43.,  44.,\n",
       "        45.,  46.,  47.,  48.,  49.,  50.,  51.,  52.,  53.,  54.,  55.,\n",
       "        56.,  57.,  58.,  59.,  60.,  61.,  62.,  63.,  64.,  65.,  66.,\n",
       "        67.,  68.,  69.,  70.,  71.,  72.,  73.,  74.,  75.,  76.,  77.,\n",
       "        78.,  79.,  80.,  81.,  82.,  83.,  84.,  85.,  86.,  87.,  88.,\n",
       "        89.,  90.,  91.,  92.,  93.,  94.,  95.,  96.,  97.,  98.,  99.,\n",
       "       100.])},\n",
       "             scoring='neg_mean_absolute_error', verbose=30)"
      ]
     },
     "execution_count": 15,
     "metadata": {},
     "output_type": "execute_result"
    }
   ],
   "source": [
    "import numpy as np\n",
    "lambdas = np.linspace(1,100,100)\n",
    "lm = Ridge(fit_intercept=True)\n",
    "params = {\n",
    "    'alpha':lambdas\n",
    "}\n",
    "ridgesearch = GridSearchCV(lm, param_grid=params, cv=10, n_jobs=-1, scoring='neg_mean_absolute_error', verbose=30)\n",
    "ridgesearch.fit(X,Y)"
   ]
  },
  {
   "cell_type": "code",
   "execution_count": 16,
   "id": "e537d2b6",
   "metadata": {},
   "outputs": [
    {
     "data": {
      "text/plain": [
       "Ridge(alpha=100.0)"
      ]
     },
     "execution_count": 16,
     "metadata": {},
     "output_type": "execute_result"
    }
   ],
   "source": [
    "ridgesearch.best_estimator_"
   ]
  },
  {
   "cell_type": "code",
   "execution_count": 17,
   "id": "d0665629",
   "metadata": {},
   "outputs": [
    {
     "name": "stdout",
     "output_type": "stream",
     "text": [
      "Model with rank: 1\n",
      "Mean validation score: -2.775 (std: 0.04312)\n",
      "Parameters: {'alpha': 100.0}\n",
      " \n",
      "Model with rank: 2\n",
      "Mean validation score: -2.775 (std: 0.04312)\n",
      "Parameters: {'alpha': 99.0}\n",
      " \n",
      "Model with rank: 3\n",
      "Mean validation score: -2.775 (std: 0.04312)\n",
      "Parameters: {'alpha': 98.0}\n",
      " \n",
      "Model with rank: 4\n",
      "Mean validation score: -2.775 (std: 0.04312)\n",
      "Parameters: {'alpha': 97.0}\n",
      " \n",
      "Model with rank: 5\n",
      "Mean validation score: -2.775 (std: 0.04312)\n",
      "Parameters: {'alpha': 96.0}\n",
      " \n"
     ]
    }
   ],
   "source": [
    "report(ridgesearch.cv_results_, 5)"
   ]
  },
  {
   "cell_type": "code",
   "execution_count": 18,
   "id": "7272721e",
   "metadata": {},
   "outputs": [
    {
     "data": {
      "text/plain": [
       "(40799, 61)"
      ]
     },
     "execution_count": 18,
     "metadata": {},
     "output_type": "execute_result"
    }
   ],
   "source": [
    "X.shape"
   ]
  },
  {
   "cell_type": "code",
   "execution_count": 19,
   "id": "dc87488b",
   "metadata": {},
   "outputs": [
    {
     "data": {
      "text/plain": [
       "(40799, 1)"
      ]
     },
     "execution_count": 19,
     "metadata": {},
     "output_type": "execute_result"
    }
   ],
   "source": [
    "Y.shape"
   ]
  },
  {
   "cell_type": "code",
   "execution_count": 20,
   "id": "4b6edc21",
   "metadata": {},
   "outputs": [],
   "source": [
    "import matplotlib.pyplot as plt\n",
    "%matplotlib inline\n",
    "x_train, x_test, y_train, y_test = train_test_split(X,Y,test_size=0.2,random_state=2)\n",
    "def predplotter(searchobj):\n",
    "    cur_model = searchobj#.best_estimator_\n",
    "    cur_model.fit(x_train, y_train)\n",
    "    preds = cur_model.predict(x_test)\n",
    "    plt.figure(figsize=(12,6))\n",
    "    plt.plot(x_test['T2_V1'], y_test, 'o') #scatter plot showing actual data\n",
    "    plt.plot(x_test['T2_V1'], preds, 'r', linewidth=2) #regression line\n",
    "    plt.xlabel('T2V1')\n",
    "    plt.ylabel('predictions')\n",
    "    plt.title('T2V1 vs predictions')\n",
    "    plt.show()"
   ]
  },
  {
   "cell_type": "code",
   "execution_count": 21,
   "id": "42d5ce56",
   "metadata": {},
   "outputs": [
    {
     "name": "stdout",
     "output_type": "stream",
     "text": [
      "Fitting 10 folds for each of 100 candidates, totalling 1000 fits\n"
     ]
    },
    {
     "data": {
      "image/png": "[encoded data removed]",
      "text/plain": [
       "<Figure size 864x432 with 1 Axes>"
      ]
     },
     "metadata": {
      "needs_background": "light"
     },
     "output_type": "display_data"
    }
   ],
   "source": [
    "predplotter(ridgesearch)"
   ]
  },
  {
   "cell_type": "code",
   "execution_count": 22,
   "id": "faed65a5",
   "metadata": {},
   "outputs": [],
   "source": [
    "dtreg = DecisionTreeRegressor(criterion='mae')\n",
    "\n",
    "params = {\n",
    "    'max_depth':[None,5,7,10,12,15],\n",
    "    'min_samples_leaf':[5,10,30,50,100],\n",
    "    'min_samples_split':[2,5,10,15,20,50,70,100]\n",
    "}\n",
    "\n",
    "dtree = RandomizedSearchCV(param_distributions = params, estimator = dtreg, cv=5, n_iter=10, verbose=30, n_jobs=-1, scoring='neg_mean_absolute_error')\n"
   ]
  },
  {
   "cell_type": "code",
   "execution_count": 24,
   "id": "4710adb3",
   "metadata": {},
   "outputs": [
    {
     "name": "stdout",
     "output_type": "stream",
     "text": [
      "Fitting 5 folds for each of 10 candidates, totalling 50 fits\n"
     ]
    },
    {
     "data": {
      "text/plain": [
       "RandomizedSearchCV(cv=5, estimator=DecisionTreeRegressor(criterion='mae'),\n",
       "                   n_jobs=-1,\n",
       "                   param_distributions={'max_depth': [None, 5, 7, 10, 12, 15],\n",
       "                                        'min_samples_leaf': [5, 10, 30, 50,\n",
       "                                                             100],\n",
       "                                        'min_samples_split': [2, 5, 10, 15, 20,\n",
       "                                                              50, 70, 100]},\n",
       "                   scoring='neg_mean_absolute_error', verbose=30)"
      ]
     },
     "execution_count": 24,
     "metadata": {},
     "output_type": "execute_result"
    }
   ],
   "source": [
    "dtree.fit(X,Y)"
   ]
  },
  {
   "cell_type": "code",
   "execution_count": 25,
   "id": "be50fc5a",
   "metadata": {},
   "outputs": [
    {
     "data": {
      "text/plain": [
       "DecisionTreeRegressor(criterion='mae', max_depth=7, min_samples_leaf=30,\n",
       "                      min_samples_split=15)"
      ]
     },
     "execution_count": 25,
     "metadata": {},
     "output_type": "execute_result"
    }
   ],
   "source": [
    "dtree.best_estimator_"
   ]
  },
  {
   "cell_type": "code",
   "execution_count": 26,
   "id": "6fe92b10",
   "metadata": {},
   "outputs": [
    {
     "name": "stdout",
     "output_type": "stream",
     "text": [
      "Model with rank: 1\n",
      "Mean validation score: -2.644 (std: 0.02982)\n",
      "Parameters: {'min_samples_split': 15, 'min_samples_leaf': 30, 'max_depth': 7}\n",
      " \n",
      "Model with rank: 2\n",
      "Mean validation score: -2.650 (std: 0.03177)\n",
      "Parameters: {'min_samples_split': 50, 'min_samples_leaf': 5, 'max_depth': 7}\n",
      " \n",
      "Model with rank: 3\n",
      "Mean validation score: -2.652 (std: 0.03229)\n",
      "Parameters: {'min_samples_split': 10, 'min_samples_leaf': 100, 'max_depth': 10}\n",
      " \n",
      "Model with rank: 4\n",
      "Mean validation score: -2.653 (std: 0.03062)\n",
      "Parameters: {'min_samples_split': 20, 'min_samples_leaf': 5, 'max_depth': 7}\n",
      " \n",
      "Model with rank: 5\n",
      "Mean validation score: -2.654 (std: 0.03246)\n",
      "Parameters: {'min_samples_split': 20, 'min_samples_leaf': 50, 'max_depth': 10}\n",
      " \n"
     ]
    }
   ],
   "source": [
    "report(dtree.cv_results_,5)"
   ]
  },
  {
   "cell_type": "code",
   "execution_count": 27,
   "id": "58b193e0",
   "metadata": {},
   "outputs": [
    {
     "name": "stdout",
     "output_type": "stream",
     "text": [
      "Fitting 5 folds for each of 10 candidates, totalling 50 fits\n"
     ]
    },
    {
     "data": {
      "image/png": "[encoded data removed]",
      "text/plain": [
       "<Figure size 864x432 with 1 Axes>"
      ]
     },
     "metadata": {
      "needs_background": "light"
     },
     "output_type": "display_data"
    }
   ],
   "source": [
    "predplotter(dtree)"
   ]
  },
  {
   "cell_type": "markdown",
   "id": "dec67738",
   "metadata": {},
   "source": [
    "help(RandomForestRegressor) #only works in google colab"
   ]
  },
  {
   "cell_type": "code",
   "execution_count": null,
   "id": "fff0dba4",
   "metadata": {},
   "outputs": [
    {
     "name": "stdout",
     "output_type": "stream",
     "text": [
      "Fitting 5 folds for each of 1 candidates, totalling 5 fits\n",
      "[CV 1/5; 1/1] START max_depth=5, min_samples_leaf=10, min_samples_split=15, n_estimators=500\n"
     ]
    },
    {
     "name": "stderr",
     "output_type": "stream",
     "text": [
      "[Parallel(n_jobs=-1)]: Using backend LokyBackend with 8 concurrent workers.\n"
     ]
    }
   ],
   "source": [
    "from sklearn.ensemble import RandomForestRegressor\n",
    "rfreg = RandomForestRegressor(criterion='mae', verbose=30, n_estimators=100, n_jobs=-1)\n",
    "\n",
    "params = {'n_estimators':[500],\n",
    "         'max_depth':[5,10,15],\n",
    "         'min_samples_leaf':[5,10,30,50,100],\n",
    "         'min_samples_split':[2,5,10,15,20,50,70,100]}\n",
    "\n",
    "rftree = RandomizedSearchCV(param_distributions = params, estimator=rfreg, cv=5, n_iter=1, verbose=30, scoring='neg_mean_absolute_error')\n",
    "rftree.fit(X,Y)"
   ]
  },
  {
   "cell_type": "code",
   "execution_count": null,
   "id": "fc36e41e",
   "metadata": {},
   "outputs": [],
   "source": [
    "dir(rfreg)\n",
    "from xgboost import XGBRegressor\n",
    "xgb_model = XGBRegressor()"
   ]
  },
  {
   "cell_type": "code",
   "execution_count": null,
   "id": "fa792f71",
   "metadata": {},
   "outputs": [],
   "source": [
    "from xgboost import XGBRegressor\n",
    "xgb_model = XGBRegressor()\n",
    "\n",
    "param_tuning = {\n",
    "    'learning_rate':[0.01, 0.05, 0.1, 0.25, 0.5, 0.7],\n",
    "    'max_depth':[3, 5, 7, 10],\n",
    "    'min_child_weight':[1, 3, 5],\n",
    "    'subsample':[0.5, 0.7],\n",
    "    'colsample_bytree':[0.5, 0.7],\n",
    "    'n_estimators': [250,  500, 750, 1000],\n",
    "    'objective':['count:poisson']    \n",
    "}\n",
    "xgbsearch = GridSearchCV(estimator = xgb_model,\n",
    "                        param_grid = param_tuning,\n",
    "                        scoring = 'neg_mean_absolute_error',\n",
    "                        cv=5,\n",
    "                        n_jobs=20,\n",
    "                        verbose=30)\n",
    "\n",
    "xgbsearch.fit(X,Y)\n",
    "print(xgbsearch.best_params_)\n",
    "print(report(xgbsearch.cv_results_,5))\n",
    "predplotter(xgbsearch)"
   ]
  },
  {
   "cell_type": "code",
   "execution_count": null,
   "id": "9021e207",
   "metadata": {},
   "outputs": [],
   "source": [
    "param_tuning = {\n",
    "    'learning_rate':[0.01, 0.05, 0.1, 0.25, 0.5, 0.7],\n",
    "    'max_depth':[3,5,7,10],\n",
    "    'min_child_weight':[1,3,5],\n",
    "    'subsample':[0.5,0.7],\n",
    "    'colsample_bytree':[0.5,0.7],\n",
    "    'n_estimators':[250],\n",
    "    'objective':['count:poisson']\n",
    "}\n",
    "\n",
    "xgbsearch2 = GridSearchCV(estimator=xgb_model,\n",
    "                         param_grid=param_tuning,\n",
    "                         scoring = 'neg_mean_absolute_error',\n",
    "                         cv=5,\n",
    "                         n_jobs=20,\n",
    "                         verbose=30)\n",
    "xgbsearch2.fit(X,Y)\n",
    "print(xgbsearch2.best_params_)\n",
    "print(report(xgbsearch2.cv_results_,5))\n",
    "predplotter(xgbsearch2)"
   ]
  },
  {
   "cell_type": "code",
   "execution_count": null,
   "id": "6051db71",
   "metadata": {},
   "outputs": [],
   "source": [
    "param_tuning = {\n",
    "    'learning_rate':[0.001,0.002, 0.005, 0.007, 0.01, 0.02],\n",
    "    'n_estimators':[250,500],\n",
    "    'objective':['count:poisson']\n",
    "}\n",
    "xgbsearch3 = GridSearchCV(estimator = xgb_model,\n",
    "                         param_grid = param_tuning,\n",
    "                         scoring = 'neg_mean_absolute_error',\n",
    "                         cv=5,\n",
    "                         n_jobs=20,\n",
    "                         verbose=30)\n",
    "xgbsearch3.fit(X,Y)\n",
    "print(xgbsearch3.best_params_)\n",
    "print(report(xgbsearch3.cv_results_,5))\n",
    "predplotter(xgbsearch3)"
   ]
  },
  {
   "cell_type": "code",
   "execution_count": null,
   "id": "fb426488",
   "metadata": {},
   "outputs": [],
   "source": [
    "param_tuning = {\n",
    "        'learning_rate': [0.002, 0.005],\n",
    "        'max_depth':  [3, 5, 7, 10,12,15],\n",
    "        #'min_child_weight': [1, 3, 5],\n",
    "        #'subsample': [0.5, 0.7],\n",
    "        #'colsample_bytree': [0.5, 0.7],\n",
    "        'n_estimators' : [ 500],\n",
    "        'objective': ['count:poisson']}\n",
    "\n",
    "xgbsearch4 = GridSearchCV(estimator = xgb_model,\n",
    "                           param_grid = param_tuning,                        \n",
    "                           scoring = 'neg_mean_absolute_error', #MAE\n",
    "                           #scoring = 'neg_mean_squared_error',  #MSE\n",
    "                           cv = 5,\n",
    "                           n_jobs = 20,\n",
    "                           verbose = 30)\n",
    "\n",
    "xgbsearch4.fit(X,Y)\n",
    "print(xgbsearch4.best_params_)\n",
    "print(report(xgbsearch4.cv_results_,5))\n",
    "predplotter(xgbsearch4)"
   ]
  },
  {
   "cell_type": "code",
   "execution_count": null,
   "id": "90038147",
   "metadata": {},
   "outputs": [],
   "source": [
    "param_tuning = {\n",
    "        'learning_rate': [0.002],\n",
    "        'max_depth':  [ 7],\n",
    "        'min_child_weight': [ 5,10,15,50,100,150,200],\n",
    "        #'subsample': [0.5, 0.7],\n",
    "        #'colsample_bytree': [0.5, 0.7],\n",
    "        'n_estimators' : [ 500],\n",
    "        'objective': ['count:poisson']}\n",
    "\n",
    "xgbsearch4 = GridSearchCV(estimator = xgb_model,\n",
    "                           param_grid = param_tuning,                        \n",
    "                           scoring = 'neg_mean_absolute_error', #MAE\n",
    "                           #scoring = 'neg_mean_squared_error',  #MSE\n",
    "                           cv = 5,\n",
    "                           n_jobs = 20,\n",
    "                           verbose = 30)\n",
    "\n",
    "xgbsearch4.fit(X,Y)\n",
    "print(xgbsearch4.best_params_)\n",
    "print(report(xgbsearch4.cv_results_,5))\n",
    "predplotter(xgbsearch4)"
   ]
  },
  {
   "cell_type": "code",
   "execution_count": null,
   "id": "41ad08d8",
   "metadata": {},
   "outputs": [],
   "source": [
    "param_tuning = {\n",
    "        'learning_rate': [0.002],\n",
    "        'max_depth':  [ 7],\n",
    "        'min_child_weight': [ 15,30,50],\n",
    "        'subsample': [0.1,0.2,0.5, 0.7,0.9],\n",
    "        #'colsample_bytree': [0.5, 0.7],\n",
    "        'n_estimators' : [ 500],\n",
    "        'objective': ['count:poisson']}\n",
    "\n",
    "xgbsearch4 = GridSearchCV(estimator = xgb_model,\n",
    "                           param_grid = param_tuning,                        \n",
    "                           scoring = 'neg_mean_absolute_error', #MAE\n",
    "                           #scoring = 'neg_mean_squared_error',  #MSE\n",
    "                           cv = 5,\n",
    "                           n_jobs = 20,\n",
    "                           verbose = 30)\n",
    "\n",
    "xgbsearch4.fit(X,Y)\n",
    "print(xgbsearch4.best_params_)\n",
    "print(report(xgbsearch4.cv_results_,5))\n",
    "predplotter(xgbsearch4)"
   ]
  },
  {
   "cell_type": "code",
   "execution_count": null,
   "id": "8673174d",
   "metadata": {},
   "outputs": [],
   "source": [
    "param_tuning = {\n",
    "        'learning_rate': [0.002],\n",
    "        'max_depth':  [ 7],\n",
    "        'min_child_weight': [ 15],\n",
    "        'subsample': [0.7],\n",
    "        'colsample_bytree': [0.1,0.2,0.5, 0.7,0.9],\n",
    "        'n_estimators' : [ 500],\n",
    "        'objective': ['count:poisson']}\n",
    "\n",
    "xgbsearch4 = GridSearchCV(estimator = xgb_model,\n",
    "                           param_grid = param_tuning,                        \n",
    "                           scoring = 'neg_mean_absolute_error', #MAE\n",
    "                           #scoring = 'neg_mean_squared_error',  #MSE\n",
    "                           cv = 5,\n",
    "                           n_jobs = 20,\n",
    "                           verbose = 30)\n",
    "\n",
    "xgbsearch4.fit(X,Y)\n",
    "print(xgbsearch4.best_params_)\n",
    "print(report(xgbsearch4.cv_results_,5))\n",
    "predplotter(xgbsearch4)"
   ]
  },
  {
   "cell_type": "code",
   "execution_count": null,
   "id": "e98aa6b6",
   "metadata": {},
   "outputs": [],
   "source": []
  },
  {
   "cell_type": "code",
   "execution_count": null,
   "id": "5c8f469b",
   "metadata": {},
   "outputs": [],
   "source": []
  },
  {
   "cell_type": "code",
   "execution_count": null,
   "id": "f9f13fe1",
   "metadata": {},
   "outputs": [],
   "source": []
  },
  {
   "cell_type": "code",
   "execution_count": null,
   "id": "7f0f6d85",
   "metadata": {},
   "outputs": [],
   "source": []
  },
  {
   "cell_type": "code",
   "execution_count": null,
   "id": "e993ebbd",
   "metadata": {},
   "outputs": [],
   "source": []
  }
 ],
 "metadata": {
  "kernelspec": {
   "display_name": "Python 3",
   "language": "python",
   "name": "python3"
  }
 },
 "nbformat": 4,
 "nbformat_minor": 5
}
